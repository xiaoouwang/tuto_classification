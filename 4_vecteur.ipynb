{
 "cells": [
  {
   "cell_type": "code",
   "execution_count": 1,
   "execution_count": 5,
   "metadata": {},
   "outputs": [],
   "source": [
    "import pickle\n",
    "import pandas as pd"
   ]
  },
  {
   "cell_type": "code",
   "execution_count": 2,
   "execution_count": 14,
   "metadata": {},
   "outputs": [],
   "source": [
    "# ici il faut reentrainer le modele avec la liste des phrases de eco politique et societe, colonne = text_clean\n",
    "\n",
    "# load le corpus avec 5 themes\n",
    "df = pickle.load(open( \"corpus1000_5themes_cleaned.pickle\", \"rb\" ) )"
   ]
  },
  {
   "cell_type": "code",
   "execution_count": 15,
   "metadata": {},
   "outputs": [],
   "source": [
    "# filtrer les categories\n",
    "df = df[df.label.isin(['politique','societe','economie'])]"
   ]
  },
  {
   "cell_type": "code",
   "execution_count": 16,
   "metadata": {},
   "outputs": [
    {
     "output_type": "execute_result",
     "data": {
      "text/plain": [
       "(3000, 3)"
      ]
     },
     "metadata": {},
     "execution_count": 16
    }
   ],
   "source": [
    "df.shape"
   ]
  },
  {
   "cell_type": "code",
   "execution_count": 17,
   "metadata": {},
   "outputs": [
    {
     "output_type": "execute_result",
     "data": {
      "text/plain": [
       "      label                                               text  \\\n",
       "0  economie  Syndicats et patronat s'entendent pour sauver ...   \n",
       "1  economie  La première centrale nucléaire flottante du mo...   \n",
       "2  economie  Google et Apple scellent leur rupture\\n\\nGoogl...   \n",
       "3  economie  2010, année exécrable pour le marché de l'empl...   \n",
       "4  economie  Chez SoLocal, ex-PagesJaunes, le conflit se du...   \n",
       "\n",
       "                                          text_clean  \n",
       "0  syndicat|patronattre|entendre|sauver|retraite|...  \n",
       "1  central|nucléaire|flottant|monde|route|sibérie...  \n",
       "2  google|apple|sceler|rupture||google|apple|alle...  \n",
       "3  année|exécrable|marché|emploi|cadre||marché|tr...  \n",
       "4  solocal|ex-pagesjaunes|conflit|durcivre||situa...  "
      ],
      "text/html": "<div>\n<style scoped>\n    .dataframe tbody tr th:only-of-type {\n        vertical-align: middle;\n    }\n\n    .dataframe tbody tr th {\n        vertical-align: top;\n    }\n\n    .dataframe thead th {\n        text-align: right;\n    }\n</style>\n<table border=\"1\" class=\"dataframe\">\n  <thead>\n    <tr style=\"text-align: right;\">\n      <th></th>\n      <th>label</th>\n      <th>text</th>\n      <th>text_clean</th>\n    </tr>\n  </thead>\n  <tbody>\n    <tr>\n      <th>0</th>\n      <td>economie</td>\n      <td>Syndicats et patronat s'entendent pour sauver ...</td>\n      <td>syndicat|patronattre|entendre|sauver|retraite|...</td>\n    </tr>\n    <tr>\n      <th>1</th>\n      <td>economie</td>\n      <td>La première centrale nucléaire flottante du mo...</td>\n      <td>central|nucléaire|flottant|monde|route|sibérie...</td>\n    </tr>\n    <tr>\n      <th>2</th>\n      <td>economie</td>\n      <td>Google et Apple scellent leur rupture\\n\\nGoogl...</td>\n      <td>google|apple|sceler|rupture||google|apple|alle...</td>\n    </tr>\n    <tr>\n      <th>3</th>\n      <td>economie</td>\n      <td>2010, année exécrable pour le marché de l'empl...</td>\n      <td>année|exécrable|marché|emploi|cadre||marché|tr...</td>\n    </tr>\n    <tr>\n      <th>4</th>\n      <td>economie</td>\n      <td>Chez SoLocal, ex-PagesJaunes, le conflit se du...</td>\n      <td>solocal|ex-pagesjaunes|conflit|durcivre||situa...</td>\n    </tr>\n  </tbody>\n</table>\n</div>"
     },
     "metadata": {},
     "execution_count": 17
    }
   ],
   "source": [
    "df.head()"
   ]
  },
  {
   "cell_type": "code",
   "execution_count": 3,
   "metadata": {},
   "outputs": [],
   "source": [
    "# creation des vecteurs\n",
    "from gensim.models import Word2Vec\n",
    "model = Word2Vec(corpus, min_count=1)"
   ]
  },
  {
   "cell_type": "code",
   "execution_count": 4,
   "metadata": {},
   "outputs": [
    {
     "name": "stdout",
     "output_type": "stream",
     "text": [
      "Word2Vec(vocab=68380, size=100, alpha=0.025)\n"
     ]
    }
   ],
   "source": [
    "print(model)"
   ]
  },
  {
   "cell_type": "code",
   "execution_count": 5,
   "metadata": {},
   "outputs": [],
   "source": [
    "model.save('model_1000.bin')\n",
    "# load model\n",
    "# new_model = Word2Vec.load('model.bin')\n",
    "# print(new_model)"
   ]
  },
  {
   "cell_type": "code",
   "execution_count": 16,
   "metadata": {},
   "outputs": [],
   "source": [
    "# len(model['économie'])"
   ]
  },
  {
   "cell_type": "code",
   "execution_count": 18,
   "metadata": {},
   "outputs": [
    {
     "data": {
      "text/plain": [
       "[('combiné', 0.9994518756866455),\n",
       " ('alpin', 0.9993689060211182),\n",
       " ('libre', 0.9992455244064331),\n",
       " ('haie', 0.9991621375083923),\n",
       " ('reléguer', 0.9990379810333252),\n",
       " ('papillon', 0.9990267157554626),\n",
       " ('glace', 0.9989510178565979),\n",
       " ('rugby', 0.9986435174942017),\n",
       " ('saut', 0.9986200928688049),\n",
       " ('ceinturer', 0.998552680015564)]"
      ]
     },
     "execution_count": 18,
     "metadata": {},
     "output_type": "execute_result"
    }
   ],
   "source": [
    "model.most_similar('ski')"
   ]
  },
  {
   "cell_type": "code",
   "execution_count": 19,
   "metadata": {},
   "outputs": [
    {
     "data": {
      "text/plain": [
       "[('image', 0.9963664412498474),\n",
       " ('problème', 0.9959731101989746),\n",
       " ('qualité', 0.9956032633781433),\n",
       " ('spécificité', 0.9949179887771606),\n",
       " ('coordination', 0.9940847754478455),\n",
       " ('santé', 0.9939347505569458),\n",
       " ('keynes', 0.993913471698761),\n",
       " ('système', 0.9938087463378906),\n",
       " ('approvisionner', 0.9936543107032776),\n",
       " ('inconditionnel', 0.9935557842254639)]"
      ]
     },
     "execution_count": 19,
     "metadata": {},
     "output_type": "execute_result"
    }
   ],
   "source": [
    "model.most_similar('politique')"
   ]
  },
  {
   "cell_type": "code",
   "execution_count": 1,
   "metadata": {},
   "outputs": [],
   "source": [
    "import multiprocessing"
   ]
  },
  {
   "cell_type": "code",
   "execution_count": 2,
   "metadata": {},
   "outputs": [],
   "source": [
    "cores = multiprocessing.cpu_count() # Count the number of cores in a computer"
   ]
  },
  {
   "cell_type": "code",
   "execution_count": 3,
   "metadata": {},
   "outputs": [
    {
     "output_type": "stream",
     "name": "stdout",
     "text": [
      "4\n"
     ]
    }
   ],
   "source": [
    "print(cores)"
   ]
  }
 ],
 "metadata": {
  "kernelspec": {
   "display_name": "Python 3",
   "language": "python",
   "name": "python3"
  },
  "language_info": {
   "codemirror_mode": {
    "name": "ipython",
    "version": 3
   },
   "file_extension": ".py",
   "mimetype": "text/x-python",
   "name": "python",
   "nbconvert_exporter": "python",
   "pygments_lexer": "ipython3",
   "version": "3.7.6-final"
  }
 },
 "nbformat": 4,
 "nbformat_minor": 2
}