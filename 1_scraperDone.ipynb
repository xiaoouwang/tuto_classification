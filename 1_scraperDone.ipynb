{
 "cells": [
  {
   "cell_type": "code",
   "execution_count": 5,
   "metadata": {
    "ExecuteTime": {
     "end_time": "2020-12-11T15:34:15.616562Z",
     "start_time": "2020-12-11T15:34:15.606300Z"
    }
   },
   "outputs": [
    {
     "data": {
      "text/plain": [
       "<module 'scraper' from '/Users/xiaoou/Documents/coursAlice/scraper.py'>"
      ]
     },
     "execution_count": 5,
     "metadata": {},
     "output_type": "execute_result"
    }
   ],
   "source": [
    "from importlib import reload\n",
    "from pprint import pprint\n",
    "from urllib.error import HTTPError\n",
    "from urllib.request import urlopen\n",
    "from bs4 import BeautifulSoup\n",
    "import scraper\n",
    "from collections import defaultdict\n",
    "import os\n",
    "import pandas as pd\n",
    "reload(scraper)"
   ]
  },
  {
   "cell_type": "code",
   "execution_count": null,
   "metadata": {},
   "outputs": [],
   "source": [
    "# create archive links\n",
    "archive_links = scraper.create_archive_links(2006,2020,1, 12, 1, 31)\n",
    "# 12*31 = 372 links for each year\n",
    "print(len(archive_links),\"years\")\n",
    "[len(i) for i in archive_links.values()]"
   ]
  },
  {
   "cell_type": "markdown",
   "metadata": {},
   "source": [
    "![lemonde_example](img/lemonde_example.png)"
   ]
  },
  {
   "cell_type": "code",
   "execution_count": null,
   "metadata": {},
   "outputs": [],
   "source": [
    "corpus_path = os.path.join(os.getcwd(), \"corpus_links\")\n",
    "scraper.create_folder(corpus_path)\n",
    "article_links = {}"
   ]
  },
  {
   "cell_type": "code",
   "execution_count": null,
   "metadata": {
    "pycharm": {
     "name": "#%%\n"
    }
   },
   "outputs": [],
   "source": [
    "for year,links in archive_links.items():\n",
    "    print(\"processing: \",year)\n",
    "    article_links_list = scraper.get_articles_links(links)\n",
    "    article_links[year] = article_links_list\n",
    "    scraper.write_links(corpus_path,article_links_list,year)"
   ]
  },
  {
   "cell_type": "code",
   "execution_count": 2,
   "metadata": {
    "pycharm": {
     "name": "#%%\n"
    }
   },
   "outputs": [],
   "source": [
    "# dernierere date valable : url not valid https://www.lemonde.fr/archives-du-monde/11-12-2020/\n",
    "# len(article_links_list)\n",
    "# get all the themes\n",
    "import pickle\n",
    "# with open(r\"corpus_links.pickle\", \"wb\") as output_file:\n",
    "#     pickle.dump(article_links, output_file)\n",
    "with open(\"corpus_links.pickle\",'rb') as handle:\n",
    "    article_links = pickle.load(handle)"
   ]
  },
  {
   "cell_type": "code",
   "execution_count": 7,
   "metadata": {
    "pycharm": {
     "name": "#%%\n"
    }
   },
   "outputs": [],
   "source": [
    "themes = []\n",
    "for link_list in article_links.values():\n",
    "    themes.extend(scraper.list_themes(link_list))"
   ]
  },
  {
   "cell_type": "code",
   "execution_count": null,
   "metadata": {},
   "outputs": [],
   "source": []
  },
  {
   "cell_type": "code",
   "execution_count": 10,
   "metadata": {
    "ExecuteTime": {
     "end_time": "2020-12-10T21:54:24.219762Z",
     "start_time": "2020-12-10T21:54:24.215844Z"
    },
    "pycharm": {
     "name": "#%%\n"
    }
   },
   "outputs": [
    {
     "name": "stdout",
     "output_type": "stream",
     "text": [
      "[('societe', 15338),\n",
      " ('sport', 13077),\n",
      " ('economie', 10904),\n",
      " ('culture', 10758),\n",
      " ('politique', 10028),\n",
      " ('afrique', 9719),\n",
      " ('europe', 8912),\n",
      " ('planete', 6759),\n",
      " ('international', 6222),\n",
      " ('proche-orient', 5999),\n",
      " ('ameriques', 5435),\n",
      " ('cinema', 4238),\n",
      " ('vous', 4127),\n",
      " ('big-browser', 3873),\n",
      " ('asie-pacifique', 3539),\n",
      " ('technologies', 3164),\n",
      " ('disparitions', 2998),\n",
      " ('les-decodeurs', 2955),\n",
      " ('livres', 2896),\n",
      " ('pixels', 2889),\n",
      " ('idees', 2591),\n",
      " ('a-la-une', 2391),\n",
      " ('actualite-medias', 2371),\n",
      " ('mondephilatelique', 1649),\n",
      " ('football', 1589),\n",
      " ('police-justice', 1540),\n",
      " ('televisions-radio', 1516),\n",
      " ('campus', 1449),\n",
      " ('sciences', 1004),\n",
      " ('election-presidentielle-2012', 974),\n",
      " ('m-styles', 933),\n",
      " ('emploi', 925),\n",
      " ('sante', 850),\n",
      " ('le-monde', 732)]\n"
     ]
    }
   ],
   "source": [
    "from collections import Counter\n",
    "theme_stat = Counter(themes)\n",
    "theme_top = []\n",
    "# for k,v in sorted(theme_stat.items(), key = lambda x:x[1], reverse=True):\n",
    "#     theme_top.append((k, v))\n",
    "for k,v in sorted(theme_stat.items(), key = lambda x:x[1], reverse=True):\n",
    "    if v > 700:\n",
    "        theme_top.append((k, v))\n",
    "pprint(theme_top)"
   ]
  },
  {
   "cell_type": "code",
   "execution_count": null,
   "metadata": {
    "ExecuteTime": {
     "end_time": "2020-12-10T21:51:26.836297Z",
     "start_time": "2020-12-10T21:51:26.830309Z"
    },
    "pycharm": {
     "name": "#%%\n"
    }
   },
   "outputs": [],
   "source": [
    "all_links = []\n",
    "for link_list in article_links.values():\n",
    "    all_links.extend(link_list)\n",
    "len(all_links)"
   ]
  },
  {
   "cell_type": "code",
   "execution_count": null,
   "metadata": {},
   "outputs": [],
   "source": []
  },
  {
   "cell_type": "code",
   "execution_count": null,
   "metadata": {
    "ExecuteTime": {
     "end_time": "2020-12-10T22:02:36.385310Z",
     "start_time": "2020-12-10T22:02:36.244121Z"
    },
    "pycharm": {
     "name": "#%%\n"
    }
   },
   "outputs": [],
   "source": [
    "themes_top_five = [x[0] for x in theme_top[:5]]\n",
    "themes_top_five\n",
    "themes_top_five_links = scraper.classify_links(themes_top_five,all_links)"
   ]
  },
  {
   "cell_type": "code",
   "execution_count": null,
   "metadata": {
    "ExecuteTime": {
     "end_time": "2020-12-11T15:21:46.467018Z",
     "start_time": "2020-12-11T15:21:46.462663Z"
    }
   },
   "outputs": [],
   "source": [
    "for k in themes_top_five: print(\"-\",k,len(themes_top_five_links[k]))"
   ]
  },
  {
   "cell_type": "code",
   "execution_count": null,
   "metadata": {
    "ExecuteTime": {
     "end_time": "2020-12-10T22:25:58.235218Z",
     "start_time": "2020-12-10T22:25:58.232402Z"
    }
   },
   "outputs": [],
   "source": [
    "# scraper.get_single_page(themes_top_five_links[\"societe\"][0])\n",
    "# type(themes_top_five_links)"
   ]
  },
  {
   "cell_type": "code",
   "execution_count": null,
   "metadata": {
    "ExecuteTime": {
     "end_time": "2020-12-11T18:00:29.423910Z",
     "start_time": "2020-12-11T15:34:20.900499Z"
    }
   },
   "outputs": [],
   "source": [
    "scraper.scrape_articles(no_societe_links)"
   ]
  },
  {
   "cell_type": "code",
   "execution_count": null,
   "metadata": {
    "ExecuteTime": {
     "end_time": "2020-12-10T22:28:25.210927Z",
     "start_time": "2020-12-10T22:28:25.207708Z"
    }
   },
   "outputs": [],
   "source": [
    "os.mkdir(\"corpus/societe\")"
   ]
  },
  {
   "cell_type": "code",
   "execution_count": null,
   "metadata": {
    "ExecuteTime": {
     "end_time": "2020-12-11T15:22:15.736286Z",
     "start_time": "2020-12-11T15:22:15.733188Z"
    }
   },
   "outputs": [],
   "source": [
    "no_societe_links = {key: value for key, value\n",
    "                  in themes_top_five_links.items()\n",
    "                  if key != \"societe\"}"
   ]
  },
  {
   "cell_type": "code",
   "execution_count": null,
   "metadata": {
    "ExecuteTime": {
     "end_time": "2020-12-11T15:22:17.132081Z",
     "start_time": "2020-12-11T15:22:17.080427Z"
    }
   },
   "outputs": [],
   "source": [
    "no_societe_links"
   ]
  },
  {
   "cell_type": "code",
   "execution_count": null,
   "metadata": {},
   "outputs": [],
   "source": [
    "scraper.cr_corpus_dict??"
   ]
  },
  {
   "cell_type": "code",
   "execution_count": null,
   "metadata": {},
   "outputs": [],
   "source": [
    "path = 'corpus'\n",
    "dico_corpus = scraper.cr_corpus_dict(path,1000)\n",
    "df = pd.DataFrame(data=dico_corpus,index=None)\n",
    "df.to_csv('corpus_1000.csv', index=False, encoding='utf-8')\n",
    "import pickle\n",
    "import bz2\n",
    "import _pickle as cPickle\n",
    "display(df)\n",
    "# with open(r\"corpus_1000.pickle\", \"wb\") as output_file:\n",
    "#     pickle.dump(df, output_file)\n",
    "# compressed_pickle('corpus_1000', df)\n"
   ]
  },
  {
   "cell_type": "code",
   "execution_count": 13,
   "metadata": {},
   "outputs": [],
   "source": [
    "path = 'corpus'\n",
    "dico_corpus_complet = scraper.cr_corpus_complet_dict(path)\n",
    "df = pd.DataFrame(data=dico_corpus_complet,index=None)\n",
    "import bz2\n",
    "import _pickle as cPickle\n",
    "def compressed_pickle(title, data):\n",
    "    with bz2.BZ2File(title + '.pbz2', 'w') as f: \n",
    "        cPickle.dump(data, f)\n",
    "compressed_pickle('corpus_complet_5themes', df)"
   ]
  },
  {
   "cell_type": "code",
   "execution_count": 17,
   "metadata": {},
   "outputs": [
    {
     "data": {
      "text/html": [
       "<div>\n",
       "<style scoped>\n",
       "    .dataframe tbody tr th:only-of-type {\n",
       "        vertical-align: middle;\n",
       "    }\n",
       "\n",
       "    .dataframe tbody tr th {\n",
       "        vertical-align: top;\n",
       "    }\n",
       "\n",
       "    .dataframe thead th {\n",
       "        text-align: right;\n",
       "    }\n",
       "</style>\n",
       "<table border=\"1\" class=\"dataframe\">\n",
       "  <thead>\n",
       "    <tr style=\"text-align: right;\">\n",
       "      <th></th>\n",
       "      <th>label</th>\n",
       "      <th>text</th>\n",
       "    </tr>\n",
       "  </thead>\n",
       "  <tbody>\n",
       "    <tr>\n",
       "      <th>0</th>\n",
       "      <td>economie</td>\n",
       "      <td>Syndicats et patronat s'entendent pour sauver ...</td>\n",
       "    </tr>\n",
       "    <tr>\n",
       "      <th>1</th>\n",
       "      <td>economie</td>\n",
       "      <td>La première centrale nucléaire flottante du mo...</td>\n",
       "    </tr>\n",
       "    <tr>\n",
       "      <th>2</th>\n",
       "      <td>economie</td>\n",
       "      <td>Google et Apple scellent leur rupture\\n\\nGoogl...</td>\n",
       "    </tr>\n",
       "    <tr>\n",
       "      <th>3</th>\n",
       "      <td>economie</td>\n",
       "      <td>2010, année exécrable pour le marché de l'empl...</td>\n",
       "    </tr>\n",
       "    <tr>\n",
       "      <th>4</th>\n",
       "      <td>economie</td>\n",
       "      <td>Chez SoLocal, ex-PagesJaunes, le conflit se du...</td>\n",
       "    </tr>\n",
       "    <tr>\n",
       "      <th>...</th>\n",
       "      <td>...</td>\n",
       "      <td>...</td>\n",
       "    </tr>\n",
       "    <tr>\n",
       "      <th>55232</th>\n",
       "      <td>culture</td>\n",
       "      <td>Une nuit et un jour de films de cinéma et de p...</td>\n",
       "    </tr>\n",
       "    <tr>\n",
       "      <th>55233</th>\n",
       "      <td>culture</td>\n",
       "      <td>Art contemporain et \"escort girls\"\\n\\nQuoi de ...</td>\n",
       "    </tr>\n",
       "    <tr>\n",
       "      <th>55234</th>\n",
       "      <td>culture</td>\n",
       "      <td>Clap de fin pour la tribu des \"Sopranos\", aprè...</td>\n",
       "    </tr>\n",
       "    <tr>\n",
       "      <th>55235</th>\n",
       "      <td>culture</td>\n",
       "      <td>Angkor, mégalopole médiévale\\n\\nA 14° 21' 91''...</td>\n",
       "    </tr>\n",
       "    <tr>\n",
       "      <th>55236</th>\n",
       "      <td>culture</td>\n",
       "      <td>Un pavillon praguois pour Alphonse Mucha\\n\\nAp...</td>\n",
       "    </tr>\n",
       "  </tbody>\n",
       "</table>\n",
       "<p>55237 rows × 2 columns</p>\n",
       "</div>"
      ],
      "text/plain": [
       "          label                                               text\n",
       "0      economie  Syndicats et patronat s'entendent pour sauver ...\n",
       "1      economie  La première centrale nucléaire flottante du mo...\n",
       "2      economie  Google et Apple scellent leur rupture\\n\\nGoogl...\n",
       "3      economie  2010, année exécrable pour le marché de l'empl...\n",
       "4      economie  Chez SoLocal, ex-PagesJaunes, le conflit se du...\n",
       "...         ...                                                ...\n",
       "55232   culture  Une nuit et un jour de films de cinéma et de p...\n",
       "55233   culture  Art contemporain et \"escort girls\"\\n\\nQuoi de ...\n",
       "55234   culture  Clap de fin pour la tribu des \"Sopranos\", aprè...\n",
       "55235   culture  Angkor, mégalopole médiévale\\n\\nA 14° 21' 91''...\n",
       "55236   culture  Un pavillon praguois pour Alphonse Mucha\\n\\nAp...\n",
       "\n",
       "[55237 rows x 2 columns]"
      ]
     },
     "metadata": {},
     "output_type": "display_data"
    }
   ],
   "source": [
    "def decompress_pickle(file):\n",
    "    data = bz2.BZ2File(file, 'rb')\n",
    "    data = cPickle.load(data)\n",
    "    return data\n",
    "data = decompress_pickle('corpus_complet_5themes.pbz2') \n",
    "display(data)"
   ]
  },
  {
   "cell_type": "code",
   "execution_count": null,
   "metadata": {},
   "outputs": [],
   "source": []
  }
 ],
 "metadata": {
  "kernelspec": {
   "display_name": "Python 3",
   "language": "python",
   "name": "python3"
  },
  "language_info": {
   "codemirror_mode": {
    "name": "ipython",
    "version": 3
   },
   "file_extension": ".py",
   "mimetype": "text/x-python",
   "name": "python",
   "nbconvert_exporter": "python",
   "pygments_lexer": "ipython3",
   "version": "3.7.3"
  },
  "varInspector": {
   "cols": {
    "lenName": 16,
    "lenType": 16,
    "lenVar": 40
   },
   "kernels_config": {
    "python": {
     "delete_cmd_postfix": "",
     "delete_cmd_prefix": "del ",
     "library": "var_list.py",
     "varRefreshCmd": "print(var_dic_list())"
    },
    "r": {
     "delete_cmd_postfix": ") ",
     "delete_cmd_prefix": "rm(",
     "library": "var_list.r",
     "varRefreshCmd": "cat(var_dic_list()) "
    }
   },
   "position": {
    "height": "487px",
    "left": "1161px",
    "right": "20px",
    "top": "120px",
    "width": "355px"
   },
   "types_to_exclude": [
    "module",
    "function",
    "builtin_function_or_method",
    "instance",
    "_Feature"
   ],
   "window_display": false
  }
 },
 "nbformat": 4,
 "nbformat_minor": 2
}
