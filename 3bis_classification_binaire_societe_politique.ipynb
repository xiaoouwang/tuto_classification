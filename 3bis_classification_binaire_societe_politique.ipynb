{
 "cells": [
  {
   "cell_type": "code",
   "execution_count": 30,
   "metadata": {},
   "outputs": [],
   "source": [
    "import pandas as pd\n",
    "import numpy as np\n",
    "from sklearn import model_selection\n",
    "from sklearn.linear_model import LogisticRegression\n",
    "from sklearn import svm\n",
    "from sklearn.ensemble import RandomForestClassifier\n",
    "from sklearn.neural_network import MLPClassifier\n",
    "from sklearn import metrics\n",
    "import matplotlib.pyplot as plt\n",
    "import seaborn as sns"
   ]
  },
  {
   "cell_type": "code",
   "execution_count": 4,
   "metadata": {},
   "outputs": [],
   "source": [
    "from gensim import models\n",
    "from gensim.models import Word2Vec\n",
    "model = Word2Vec.load(\"model_1000.bin\")"
   ]
  },
  {
   "cell_type": "code",
   "execution_count": 5,
   "metadata": {},
   "outputs": [],
   "source": [
    "df = pd.read_pickle(r'D:/git/coursAlice/corpus1000_5themes_cleaned.pickle')"
   ]
  },
  {
   "cell_type": "code",
   "execution_count": 34,
   "metadata": {},
   "outputs": [],
   "source": [
    "# df"
   ]
  },
  {
   "cell_type": "code",
   "execution_count": 7,
   "metadata": {},
   "outputs": [
    {
     "data": {
      "text/plain": [
       "array(['economie', 'societe', 'sport', 'politique', 'culture'],\n",
       "      dtype=object)"
      ]
     },
     "execution_count": 7,
     "metadata": {},
     "output_type": "execute_result"
    }
   ],
   "source": [
    "df.label.unique()"
   ]
  },
  {
   "cell_type": "code",
   "execution_count": 8,
   "metadata": {},
   "outputs": [],
   "source": [
    "def document_vector(text):\n",
    "    \"\"\"Create document vectors by averaging word vectors. Remove out-of-vocabulary words.\"\"\"\n",
    "    doc = [word for word in text if word in model.wv.vocab]\n",
    "    vector = np.mean(model[doc], axis=0)\n",
    "    return vector"
   ]
  },
  {
   "cell_type": "code",
   "execution_count": 9,
   "metadata": {},
   "outputs": [],
   "source": [
    "df = df[df.label.isin(['societe','politique'])]"
   ]
  },
  {
   "cell_type": "code",
   "execution_count": 10,
   "metadata": {},
   "outputs": [
    {
     "data": {
      "text/plain": [
       "array(['societe', 'politique'], dtype=object)"
      ]
     },
     "execution_count": 10,
     "metadata": {},
     "output_type": "execute_result"
    }
   ],
   "source": [
    "df.label.unique()"
   ]
  },
  {
   "cell_type": "code",
   "execution_count": 14,
   "metadata": {},
   "outputs": [
    {
     "name": "stderr",
     "output_type": "stream",
     "text": [
      "C:\\Users\\nakhl\\Anaconda3\\lib\\site-packages\\ipykernel_launcher.py:1: SettingWithCopyWarning: \n",
      "A value is trying to be set on a copy of a slice from a DataFrame.\n",
      "Try using .loc[row_indexer,col_indexer] = value instead\n",
      "\n",
      "See the caveats in the documentation: https://pandas.pydata.org/pandas-docs/stable/user_guide/indexing.html#returning-a-view-versus-a-copy\n",
      "  \"\"\"Entry point for launching an IPython kernel.\n"
     ]
    },
    {
     "data": {
      "text/html": [
       "<div>\n",
       "<style scoped>\n",
       "    .dataframe tbody tr th:only-of-type {\n",
       "        vertical-align: middle;\n",
       "    }\n",
       "\n",
       "    .dataframe tbody tr th {\n",
       "        vertical-align: top;\n",
       "    }\n",
       "\n",
       "    .dataframe thead th {\n",
       "        text-align: right;\n",
       "    }\n",
       "</style>\n",
       "<table border=\"1\" class=\"dataframe\">\n",
       "  <thead>\n",
       "    <tr style=\"text-align: right;\">\n",
       "      <th></th>\n",
       "      <th>label</th>\n",
       "      <th>text</th>\n",
       "      <th>text_clean</th>\n",
       "      <th>tokens</th>\n",
       "      <th>doc_vectors</th>\n",
       "    </tr>\n",
       "  </thead>\n",
       "  <tbody>\n",
       "    <tr>\n",
       "      <th>1000</th>\n",
       "      <td>societe</td>\n",
       "      <td>La France comptait près de 66,2 millions d’hab...</td>\n",
       "      <td>la france|compter|66,2|habitant|début||vivre|f...</td>\n",
       "      <td>[la, france, compter, 66,2, habitant, début, v...</td>\n",
       "      <td>[0.07698034, 0.19601221, 0.09040069, -0.082675...</td>\n",
       "    </tr>\n",
       "    <tr>\n",
       "      <th>1001</th>\n",
       "      <td>societe</td>\n",
       "      <td>Le déficit de la Sécurité sociale s'est élevé ...</td>\n",
       "      <td>déficit|sécurité sociale|élevé|9,5|euro||défic...</td>\n",
       "      <td>[déficit, sécurité, sociale, élevé, 9,5, euro,...</td>\n",
       "      <td>[0.07490713, 0.16280088, 0.084937215, -0.07103...</td>\n",
       "    </tr>\n",
       "    <tr>\n",
       "      <th>1002</th>\n",
       "      <td>societe</td>\n",
       "      <td>L'amertume de David Sénat, ex-serviteur de l'E...</td>\n",
       "      <td>amertume|david sénat|ex-serviteur|etat|placard...</td>\n",
       "      <td>[amertume, david, sénat, ex-serviteur, etat, p...</td>\n",
       "      <td>[0.074706465, 0.14759947, 0.082480066, -0.0657...</td>\n",
       "    </tr>\n",
       "    <tr>\n",
       "      <th>1003</th>\n",
       "      <td>societe</td>\n",
       "      <td>Trois jours de grève générales et des barricad...</td>\n",
       "      <td>jour|grève|général|barricade|guadeloupe||guade...</td>\n",
       "      <td>[jour, grève, général, barricade, guadeloupe, ...</td>\n",
       "      <td>[0.07229083, 0.16124104, 0.08284776, -0.070061...</td>\n",
       "    </tr>\n",
       "    <tr>\n",
       "      <th>1004</th>\n",
       "      <td>societe</td>\n",
       "      <td>s de prison avec sursis requis contre une mère...</td>\n",
       "      <td>prison|sursir|requérir|mère|accuser|tuer|fils|...</td>\n",
       "      <td>[prison, sursir, requérir, mère, accuser, tuer...</td>\n",
       "      <td>[0.07308335, 0.14774059, 0.08113603, -0.065254...</td>\n",
       "    </tr>\n",
       "    <tr>\n",
       "      <th>...</th>\n",
       "      <td>...</td>\n",
       "      <td>...</td>\n",
       "      <td>...</td>\n",
       "      <td>...</td>\n",
       "      <td>...</td>\n",
       "    </tr>\n",
       "    <tr>\n",
       "      <th>3995</th>\n",
       "      <td>politique</td>\n",
       "      <td>François Bayrou, l’implacable procureur de Nic...</td>\n",
       "      <td>françois bayrou|lir|implacable|procureur|nicol...</td>\n",
       "      <td>[françois, bayrou, lir, implacable, procureur,...</td>\n",
       "      <td>[0.07117493, 0.14257848, 0.07890208, -0.063185...</td>\n",
       "    </tr>\n",
       "    <tr>\n",
       "      <th>3996</th>\n",
       "      <td>politique</td>\n",
       "      <td>François Hollande plaide en faveur de nouveaux...</td>\n",
       "      <td>françois hollande|plaide|faveur|instrument|fin...</td>\n",
       "      <td>[françois, hollande, plaide, faveur, instrumen...</td>\n",
       "      <td>[0.07634918, 0.18792452, 0.0894091, -0.0799101...</td>\n",
       "    </tr>\n",
       "    <tr>\n",
       "      <th>3997</th>\n",
       "      <td>politique</td>\n",
       "      <td>D'après le \"Canard enchaîné\", Georges Tron lou...</td>\n",
       "      <td>canard enchaîné|georges tron|louer|appartement...</td>\n",
       "      <td>[canard, enchaîné, georges, tron, louer, appar...</td>\n",
       "      <td>[0.07225843, 0.17905095, 0.08516515, -0.075785...</td>\n",
       "    </tr>\n",
       "    <tr>\n",
       "      <th>3998</th>\n",
       "      <td>politique</td>\n",
       "      <td>La sortie réussie de Nicolas Sarkozy\\n\\nEn le ...</td>\n",
       "      <td>sortie|réussir|nicolas sarkozy||regarder|faire...</td>\n",
       "      <td>[sortie, réussir, nicolas, sarkozy, regarder, ...</td>\n",
       "      <td>[0.07029109, 0.17014603, 0.081875265, -0.07235...</td>\n",
       "    </tr>\n",
       "    <tr>\n",
       "      <th>3999</th>\n",
       "      <td>politique</td>\n",
       "      <td>Le Pen et Estrosi favorables à un référendum s...</td>\n",
       "      <td>le pen|estrosi|favorable|référendum|immigratio...</td>\n",
       "      <td>[le, pen, estrosi, favorable, référendum, immi...</td>\n",
       "      <td>[0.07029654, 0.19217326, 0.08415759, -0.079704...</td>\n",
       "    </tr>\n",
       "  </tbody>\n",
       "</table>\n",
       "<p>2000 rows × 5 columns</p>\n",
       "</div>"
      ],
      "text/plain": [
       "          label                                               text  \\\n",
       "1000    societe  La France comptait près de 66,2 millions d’hab...   \n",
       "1001    societe  Le déficit de la Sécurité sociale s'est élevé ...   \n",
       "1002    societe  L'amertume de David Sénat, ex-serviteur de l'E...   \n",
       "1003    societe  Trois jours de grève générales et des barricad...   \n",
       "1004    societe  s de prison avec sursis requis contre une mère...   \n",
       "...         ...                                                ...   \n",
       "3995  politique  François Bayrou, l’implacable procureur de Nic...   \n",
       "3996  politique  François Hollande plaide en faveur de nouveaux...   \n",
       "3997  politique  D'après le \"Canard enchaîné\", Georges Tron lou...   \n",
       "3998  politique  La sortie réussie de Nicolas Sarkozy\\n\\nEn le ...   \n",
       "3999  politique  Le Pen et Estrosi favorables à un référendum s...   \n",
       "\n",
       "                                             text_clean  \\\n",
       "1000  la france|compter|66,2|habitant|début||vivre|f...   \n",
       "1001  déficit|sécurité sociale|élevé|9,5|euro||défic...   \n",
       "1002  amertume|david sénat|ex-serviteur|etat|placard...   \n",
       "1003  jour|grève|général|barricade|guadeloupe||guade...   \n",
       "1004  prison|sursir|requérir|mère|accuser|tuer|fils|...   \n",
       "...                                                 ...   \n",
       "3995  françois bayrou|lir|implacable|procureur|nicol...   \n",
       "3996  françois hollande|plaide|faveur|instrument|fin...   \n",
       "3997  canard enchaîné|georges tron|louer|appartement...   \n",
       "3998  sortie|réussir|nicolas sarkozy||regarder|faire...   \n",
       "3999  le pen|estrosi|favorable|référendum|immigratio...   \n",
       "\n",
       "                                                 tokens  \\\n",
       "1000  [la, france, compter, 66,2, habitant, début, v...   \n",
       "1001  [déficit, sécurité, sociale, élevé, 9,5, euro,...   \n",
       "1002  [amertume, david, sénat, ex-serviteur, etat, p...   \n",
       "1003  [jour, grève, général, barricade, guadeloupe, ...   \n",
       "1004  [prison, sursir, requérir, mère, accuser, tuer...   \n",
       "...                                                 ...   \n",
       "3995  [françois, bayrou, lir, implacable, procureur,...   \n",
       "3996  [françois, hollande, plaide, faveur, instrumen...   \n",
       "3997  [canard, enchaîné, georges, tron, louer, appar...   \n",
       "3998  [sortie, réussir, nicolas, sarkozy, regarder, ...   \n",
       "3999  [le, pen, estrosi, favorable, référendum, immi...   \n",
       "\n",
       "                                            doc_vectors  \n",
       "1000  [0.07698034, 0.19601221, 0.09040069, -0.082675...  \n",
       "1001  [0.07490713, 0.16280088, 0.084937215, -0.07103...  \n",
       "1002  [0.074706465, 0.14759947, 0.082480066, -0.0657...  \n",
       "1003  [0.07229083, 0.16124104, 0.08284776, -0.070061...  \n",
       "1004  [0.07308335, 0.14774059, 0.08113603, -0.065254...  \n",
       "...                                                 ...  \n",
       "3995  [0.07117493, 0.14257848, 0.07890208, -0.063185...  \n",
       "3996  [0.07634918, 0.18792452, 0.0894091, -0.0799101...  \n",
       "3997  [0.07225843, 0.17905095, 0.08516515, -0.075785...  \n",
       "3998  [0.07029109, 0.17014603, 0.081875265, -0.07235...  \n",
       "3999  [0.07029654, 0.19217326, 0.08415759, -0.079704...  \n",
       "\n",
       "[2000 rows x 5 columns]"
      ]
     },
     "execution_count": 14,
     "metadata": {},
     "output_type": "execute_result"
    }
   ],
   "source": [
    "df['tokens'] = df['text_clean'].apply(lambda x:\n",
    "                              x.replace(\"||\",' ').replace(\"|\",\" \").split(\" \"))\n",
    "df"
   ]
  },
  {
   "cell_type": "code",
   "execution_count": 15,
   "metadata": {},
   "outputs": [
    {
     "name": "stderr",
     "output_type": "stream",
     "text": [
      "C:\\Users\\nakhl\\Anaconda3\\lib\\site-packages\\ipykernel_launcher.py:4: DeprecationWarning: Call to deprecated `__getitem__` (Method will be removed in 4.0.0, use self.wv.__getitem__() instead).\n",
      "  after removing the cwd from sys.path.\n",
      "C:\\Users\\nakhl\\Anaconda3\\lib\\site-packages\\ipykernel_launcher.py:1: SettingWithCopyWarning: \n",
      "A value is trying to be set on a copy of a slice from a DataFrame.\n",
      "Try using .loc[row_indexer,col_indexer] = value instead\n",
      "\n",
      "See the caveats in the documentation: https://pandas.pydata.org/pandas-docs/stable/user_guide/indexing.html#returning-a-view-versus-a-copy\n",
      "  \"\"\"Entry point for launching an IPython kernel.\n"
     ]
    },
    {
     "data": {
      "text/html": [
       "<div>\n",
       "<style scoped>\n",
       "    .dataframe tbody tr th:only-of-type {\n",
       "        vertical-align: middle;\n",
       "    }\n",
       "\n",
       "    .dataframe tbody tr th {\n",
       "        vertical-align: top;\n",
       "    }\n",
       "\n",
       "    .dataframe thead th {\n",
       "        text-align: right;\n",
       "    }\n",
       "</style>\n",
       "<table border=\"1\" class=\"dataframe\">\n",
       "  <thead>\n",
       "    <tr style=\"text-align: right;\">\n",
       "      <th></th>\n",
       "      <th>label</th>\n",
       "      <th>text</th>\n",
       "      <th>text_clean</th>\n",
       "      <th>tokens</th>\n",
       "      <th>doc_vectors</th>\n",
       "    </tr>\n",
       "  </thead>\n",
       "  <tbody>\n",
       "    <tr>\n",
       "      <th>1000</th>\n",
       "      <td>societe</td>\n",
       "      <td>La France comptait près de 66,2 millions d’hab...</td>\n",
       "      <td>la france|compter|66,2|habitant|début||vivre|f...</td>\n",
       "      <td>[la, france, compter, 66,2, habitant, début, v...</td>\n",
       "      <td>[0.36056656, 0.3072927, 0.29033914, -0.2041989...</td>\n",
       "    </tr>\n",
       "    <tr>\n",
       "      <th>1001</th>\n",
       "      <td>societe</td>\n",
       "      <td>Le déficit de la Sécurité sociale s'est élevé ...</td>\n",
       "      <td>déficit|sécurité sociale|élevé|9,5|euro||défic...</td>\n",
       "      <td>[déficit, sécurité, sociale, élevé, 9,5, euro,...</td>\n",
       "      <td>[0.36934826, 0.20955004, 0.373278, -0.33665618...</td>\n",
       "    </tr>\n",
       "    <tr>\n",
       "      <th>1002</th>\n",
       "      <td>societe</td>\n",
       "      <td>L'amertume de David Sénat, ex-serviteur de l'E...</td>\n",
       "      <td>amertume|david sénat|ex-serviteur|etat|placard...</td>\n",
       "      <td>[amertume, david, sénat, ex-serviteur, etat, p...</td>\n",
       "      <td>[0.3184783, 0.25930622, 0.3053162, -0.13199869...</td>\n",
       "    </tr>\n",
       "    <tr>\n",
       "      <th>1003</th>\n",
       "      <td>societe</td>\n",
       "      <td>Trois jours de grève générales et des barricad...</td>\n",
       "      <td>jour|grève|général|barricade|guadeloupe||guade...</td>\n",
       "      <td>[jour, grève, général, barricade, guadeloupe, ...</td>\n",
       "      <td>[0.26895145, 0.25703964, 0.25247607, -0.127552...</td>\n",
       "    </tr>\n",
       "    <tr>\n",
       "      <th>1004</th>\n",
       "      <td>societe</td>\n",
       "      <td>s de prison avec sursis requis contre une mère...</td>\n",
       "      <td>prison|sursir|requérir|mère|accuser|tuer|fils|...</td>\n",
       "      <td>[prison, sursir, requérir, mère, accuser, tuer...</td>\n",
       "      <td>[0.3197554, 0.2957367, 0.32517418, -0.18429999...</td>\n",
       "    </tr>\n",
       "    <tr>\n",
       "      <th>...</th>\n",
       "      <td>...</td>\n",
       "      <td>...</td>\n",
       "      <td>...</td>\n",
       "      <td>...</td>\n",
       "      <td>...</td>\n",
       "    </tr>\n",
       "    <tr>\n",
       "      <th>3995</th>\n",
       "      <td>politique</td>\n",
       "      <td>François Bayrou, l’implacable procureur de Nic...</td>\n",
       "      <td>françois bayrou|lir|implacable|procureur|nicol...</td>\n",
       "      <td>[françois, bayrou, lir, implacable, procureur,...</td>\n",
       "      <td>[0.30622804, 0.2936117, 0.25705153, -0.0998508...</td>\n",
       "    </tr>\n",
       "    <tr>\n",
       "      <th>3996</th>\n",
       "      <td>politique</td>\n",
       "      <td>François Hollande plaide en faveur de nouveaux...</td>\n",
       "      <td>françois hollande|plaide|faveur|instrument|fin...</td>\n",
       "      <td>[françois, hollande, plaide, faveur, instrumen...</td>\n",
       "      <td>[0.38619262, 0.25046214, 0.38973385, -0.213732...</td>\n",
       "    </tr>\n",
       "    <tr>\n",
       "      <th>3997</th>\n",
       "      <td>politique</td>\n",
       "      <td>D'après le \"Canard enchaîné\", Georges Tron lou...</td>\n",
       "      <td>canard enchaîné|georges tron|louer|appartement...</td>\n",
       "      <td>[canard, enchaîné, georges, tron, louer, appar...</td>\n",
       "      <td>[0.32719833, 0.23355244, 0.32272238, -0.243378...</td>\n",
       "    </tr>\n",
       "    <tr>\n",
       "      <th>3998</th>\n",
       "      <td>politique</td>\n",
       "      <td>La sortie réussie de Nicolas Sarkozy\\n\\nEn le ...</td>\n",
       "      <td>sortie|réussir|nicolas sarkozy||regarder|faire...</td>\n",
       "      <td>[sortie, réussir, nicolas, sarkozy, regarder, ...</td>\n",
       "      <td>[0.34956318, 0.24198176, 0.3781963, -0.1512278...</td>\n",
       "    </tr>\n",
       "    <tr>\n",
       "      <th>3999</th>\n",
       "      <td>politique</td>\n",
       "      <td>Le Pen et Estrosi favorables à un référendum s...</td>\n",
       "      <td>le pen|estrosi|favorable|référendum|immigratio...</td>\n",
       "      <td>[le, pen, estrosi, favorable, référendum, immi...</td>\n",
       "      <td>[0.27019072, 0.25636342, 0.24706532, -0.108366...</td>\n",
       "    </tr>\n",
       "  </tbody>\n",
       "</table>\n",
       "<p>2000 rows × 5 columns</p>\n",
       "</div>"
      ],
      "text/plain": [
       "          label                                               text  \\\n",
       "1000    societe  La France comptait près de 66,2 millions d’hab...   \n",
       "1001    societe  Le déficit de la Sécurité sociale s'est élevé ...   \n",
       "1002    societe  L'amertume de David Sénat, ex-serviteur de l'E...   \n",
       "1003    societe  Trois jours de grève générales et des barricad...   \n",
       "1004    societe  s de prison avec sursis requis contre une mère...   \n",
       "...         ...                                                ...   \n",
       "3995  politique  François Bayrou, l’implacable procureur de Nic...   \n",
       "3996  politique  François Hollande plaide en faveur de nouveaux...   \n",
       "3997  politique  D'après le \"Canard enchaîné\", Georges Tron lou...   \n",
       "3998  politique  La sortie réussie de Nicolas Sarkozy\\n\\nEn le ...   \n",
       "3999  politique  Le Pen et Estrosi favorables à un référendum s...   \n",
       "\n",
       "                                             text_clean  \\\n",
       "1000  la france|compter|66,2|habitant|début||vivre|f...   \n",
       "1001  déficit|sécurité sociale|élevé|9,5|euro||défic...   \n",
       "1002  amertume|david sénat|ex-serviteur|etat|placard...   \n",
       "1003  jour|grève|général|barricade|guadeloupe||guade...   \n",
       "1004  prison|sursir|requérir|mère|accuser|tuer|fils|...   \n",
       "...                                                 ...   \n",
       "3995  françois bayrou|lir|implacable|procureur|nicol...   \n",
       "3996  françois hollande|plaide|faveur|instrument|fin...   \n",
       "3997  canard enchaîné|georges tron|louer|appartement...   \n",
       "3998  sortie|réussir|nicolas sarkozy||regarder|faire...   \n",
       "3999  le pen|estrosi|favorable|référendum|immigratio...   \n",
       "\n",
       "                                                 tokens  \\\n",
       "1000  [la, france, compter, 66,2, habitant, début, v...   \n",
       "1001  [déficit, sécurité, sociale, élevé, 9,5, euro,...   \n",
       "1002  [amertume, david, sénat, ex-serviteur, etat, p...   \n",
       "1003  [jour, grève, général, barricade, guadeloupe, ...   \n",
       "1004  [prison, sursir, requérir, mère, accuser, tuer...   \n",
       "...                                                 ...   \n",
       "3995  [françois, bayrou, lir, implacable, procureur,...   \n",
       "3996  [françois, hollande, plaide, faveur, instrumen...   \n",
       "3997  [canard, enchaîné, georges, tron, louer, appar...   \n",
       "3998  [sortie, réussir, nicolas, sarkozy, regarder, ...   \n",
       "3999  [le, pen, estrosi, favorable, référendum, immi...   \n",
       "\n",
       "                                            doc_vectors  \n",
       "1000  [0.36056656, 0.3072927, 0.29033914, -0.2041989...  \n",
       "1001  [0.36934826, 0.20955004, 0.373278, -0.33665618...  \n",
       "1002  [0.3184783, 0.25930622, 0.3053162, -0.13199869...  \n",
       "1003  [0.26895145, 0.25703964, 0.25247607, -0.127552...  \n",
       "1004  [0.3197554, 0.2957367, 0.32517418, -0.18429999...  \n",
       "...                                                 ...  \n",
       "3995  [0.30622804, 0.2936117, 0.25705153, -0.0998508...  \n",
       "3996  [0.38619262, 0.25046214, 0.38973385, -0.213732...  \n",
       "3997  [0.32719833, 0.23355244, 0.32272238, -0.243378...  \n",
       "3998  [0.34956318, 0.24198176, 0.3781963, -0.1512278...  \n",
       "3999  [0.27019072, 0.25636342, 0.24706532, -0.108366...  \n",
       "\n",
       "[2000 rows x 5 columns]"
      ]
     },
     "execution_count": 15,
     "metadata": {},
     "output_type": "execute_result"
    }
   ],
   "source": [
    "df['doc_vectors'] = df['tokens'].apply(lambda x:\n",
    "                                      document_vector(x))\n",
    "df"
   ]
  },
  {
   "cell_type": "code",
   "execution_count": 16,
   "metadata": {},
   "outputs": [],
   "source": [
    "df_train, df_test = model_selection.train_test_split(df, test_size=0.3)\n",
    "y_train = df_train[\"label\"].values\n",
    "y_test = df_test[\"label\"].values #X_train, X_test, y_train, y_test"
   ]
  },
  {
   "cell_type": "code",
   "execution_count": 17,
   "metadata": {},
   "outputs": [
    {
     "name": "stderr",
     "output_type": "stream",
     "text": [
      "C:\\Users\\nakhl\\Anaconda3\\lib\\site-packages\\ipykernel_launcher.py:4: DeprecationWarning: Call to deprecated `__getitem__` (Method will be removed in 4.0.0, use self.wv.__getitem__() instead).\n",
      "  after removing the cwd from sys.path.\n",
      "C:\\Users\\nakhl\\Anaconda3\\lib\\site-packages\\ipykernel_launcher.py:1: SettingWithCopyWarning: \n",
      "A value is trying to be set on a copy of a slice from a DataFrame.\n",
      "Try using .loc[row_indexer,col_indexer] = value instead\n",
      "\n",
      "See the caveats in the documentation: https://pandas.pydata.org/pandas-docs/stable/user_guide/indexing.html#returning-a-view-versus-a-copy\n",
      "  \"\"\"Entry point for launching an IPython kernel.\n",
      "C:\\Users\\nakhl\\Anaconda3\\lib\\site-packages\\ipykernel_launcher.py:2: SettingWithCopyWarning: \n",
      "A value is trying to be set on a copy of a slice from a DataFrame.\n",
      "Try using .loc[row_indexer,col_indexer] = value instead\n",
      "\n",
      "See the caveats in the documentation: https://pandas.pydata.org/pandas-docs/stable/user_guide/indexing.html#returning-a-view-versus-a-copy\n",
      "  \n"
     ]
    }
   ],
   "source": [
    "df_train['doc_vector'] = df_train.tokens.apply(document_vector)\n",
    "df_test['doc_vector'] = df_test.tokens.apply(document_vector)"
   ]
  },
  {
   "cell_type": "code",
   "execution_count": 18,
   "metadata": {},
   "outputs": [],
   "source": [
    "X_train = df_train['doc_vector'].tolist()\n",
    "X_test = df_test['doc_vector'].tolist()"
   ]
  },
  {
   "cell_type": "markdown",
   "metadata": {},
   "source": [
    "### LogisticRegression"
   ]
  },
  {
   "cell_type": "code",
   "execution_count": 19,
   "metadata": {},
   "outputs": [],
   "source": [
    "logreg = LogisticRegression().fit(X_train, y_train)\n",
    "y_pred=logreg.predict(X_test)"
   ]
  },
  {
   "cell_type": "code",
   "execution_count": 20,
   "metadata": {},
   "outputs": [
    {
     "data": {
      "text/plain": [
       "array([[195, 108],\n",
       "       [103, 194]], dtype=int64)"
      ]
     },
     "execution_count": 20,
     "metadata": {},
     "output_type": "execute_result"
    }
   ],
   "source": [
    "cnf_matrix = metrics.confusion_matrix(y_test, y_pred) # les vrais labels du test et les prédits\n",
    "cnf_matrix"
   ]
  },
  {
   "cell_type": "code",
   "execution_count": 21,
   "metadata": {},
   "outputs": [
    {
     "data": {
      "text/plain": [
       "Text(0.5, 257.44, 'Predicted label')"
      ]
     },
     "execution_count": 21,
     "metadata": {},
     "output_type": "execute_result"
    },
    {
     "data": {
      "image/png": "[encoded data removed]",
      "text/plain": [
       "<Figure size 432x288 with 2 Axes>"
      ]
     },
     "metadata": {
      "needs_background": "light"
     },
     "output_type": "display_data"
    }
   ],
   "source": [
    "class_names=['societe','politique'] # name  of classes\n",
    "fig, ax = plt.subplots()\n",
    "tick_marks = np.arange(len(class_names))\n",
    "plt.xticks(tick_marks, class_names)\n",
    "plt.yticks(tick_marks, class_names)\n",
    "# create heatmap\n",
    "sns.heatmap(pd.DataFrame(cnf_matrix), annot=True, cmap=\"YlGnBu\" ,fmt='g')\n",
    "ax.xaxis.set_label_position(\"top\")\n",
    "plt.tight_layout()\n",
    "plt.title('Confusion matrix', y=1.1)\n",
    "plt.ylabel('Actual label')\n",
    "plt.xlabel('Predicted label')"
   ]
  },
  {
   "cell_type": "code",
   "execution_count": 22,
   "metadata": {},
   "outputs": [
    {
     "name": "stdout",
     "output_type": "stream",
     "text": [
      "Class société---\n",
      "Precision: 0.6423841059602649\n",
      "Recall: 0.6531986531986532\n",
      "F-measure 0.647746243739566\n",
      "Class politique---\n",
      "Precision: 0.6543624161073825\n",
      "Recall: 0.6435643564356436\n",
      "F-measure 0.64891846921797\n"
     ]
    }
   ],
   "source": [
    "print('Class société---')\n",
    "print(\"Precision:\",metrics.precision_score(y_test, y_pred, pos_label=\"societe\"))\n",
    "print(\"Recall:\",metrics.recall_score(y_test, y_pred, pos_label=\"societe\"))\n",
    "print(\"F-measure\",metrics.f1_score(y_test, y_pred, pos_label=\"societe\"))\n",
    "print('Class politique---')\n",
    "print(\"Precision:\",metrics.precision_score(y_test, y_pred, pos_label=\"politique\"))\n",
    "print(\"Recall:\",metrics.recall_score(y_test, y_pred, pos_label=\"politique\"))\n",
    "print(\"F-measure\",metrics.f1_score(y_test, y_pred, pos_label=\"politique\"))"
   ]
  },
  {
   "cell_type": "markdown",
   "metadata": {},
   "source": [
    "### SVM"
   ]
  },
  {
   "cell_type": "code",
   "execution_count": 23,
   "metadata": {},
   "outputs": [],
   "source": [
    "clf = svm.SVC(kernel='linear') # Linear Kernel\n",
    "clf.fit(X_train, y_train)\n",
    "y_pred = clf.predict(X_test)"
   ]
  },
  {
   "cell_type": "code",
   "execution_count": 24,
   "metadata": {},
   "outputs": [
    {
     "data": {
      "text/plain": [
       "Text(0.5, 257.44, 'Predicted label')"
      ]
     },
     "execution_count": 24,
     "metadata": {},
     "output_type": "execute_result"
    },
    {
     "data": {
      "image/png": "[encoded data removed]",
      "text/plain": [
       "<Figure size 432x288 with 2 Axes>"
      ]
     },
     "metadata": {
      "needs_background": "light"
     },
     "output_type": "display_data"
    }
   ],
   "source": [
    "cnf_matrix = metrics.confusion_matrix(y_test, y_pred)\n",
    "cnf_matrix\n",
    "class_names=['societe','politique'] # name  of classes\n",
    "fig, ax = plt.subplots()\n",
    "tick_marks = np.arange(len(class_names))\n",
    "plt.xticks(tick_marks, class_names)\n",
    "plt.yticks(tick_marks, class_names)\n",
    "# create heatmap\n",
    "sns.heatmap(pd.DataFrame(cnf_matrix), annot=True, cmap=\"YlGnBu\" ,fmt='g')\n",
    "ax.xaxis.set_label_position(\"top\")\n",
    "plt.tight_layout()\n",
    "plt.title('Confusion matrix', y=1.1)\n",
    "plt.ylabel('Actual label')\n",
    "plt.xlabel('Predicted label')"
   ]
  },
  {
   "cell_type": "code",
   "execution_count": 25,
   "metadata": {},
   "outputs": [
    {
     "name": "stdout",
     "output_type": "stream",
     "text": [
      "Class société----\n",
      "Precision: 0.6617100371747212\n",
      "Recall: 0.5993265993265994\n",
      "F-measure 0.6289752650176679\n",
      "Class politique----\n",
      "Precision: 0.6404833836858006\n",
      "Recall: 0.6996699669966997\n",
      "F-measure 0.668769716088328\n"
     ]
    }
   ],
   "source": [
    "print('Class société----')\n",
    "print(\"Precision:\",metrics.precision_score(y_test, y_pred, pos_label=\"societe\"))\n",
    "print(\"Recall:\",metrics.recall_score(y_test, y_pred, pos_label=\"societe\"))\n",
    "print(\"F-measure\",metrics.f1_score(y_test, y_pred, pos_label=\"societe\"))\n",
    "print('Class politique----')\n",
    "print(\"Precision:\",metrics.precision_score(y_test, y_pred, pos_label=\"politique\"))\n",
    "print(\"Recall:\",metrics.recall_score(y_test, y_pred, pos_label=\"politique\"))\n",
    "print(\"F-measure\",metrics.f1_score(y_test, y_pred, pos_label=\"politique\"))"
   ]
  },
  {
   "cell_type": "markdown",
   "metadata": {},
   "source": [
    "### RandomForestClassifier"
   ]
  },
  {
   "cell_type": "code",
   "execution_count": 26,
   "metadata": {},
   "outputs": [
    {
     "data": {
      "text/plain": [
       "array([[196, 107],\n",
       "       [110, 187]], dtype=int64)"
      ]
     },
     "execution_count": 26,
     "metadata": {},
     "output_type": "execute_result"
    }
   ],
   "source": [
    "clf=RandomForestClassifier(n_estimators=100)\n",
    "clf.fit(X_train, y_train)\n",
    "y_pred=clf.predict(X_test)\n",
    "cnf_matrix = metrics.confusion_matrix(y_test, y_pred)\n",
    "cnf_matrix"
   ]
  },
  {
   "cell_type": "code",
   "execution_count": 27,
   "metadata": {},
   "outputs": [
    {
     "data": {
      "text/plain": [
       "Text(0.5, 257.44, 'Predicted label')"
      ]
     },
     "execution_count": 27,
     "metadata": {},
     "output_type": "execute_result"
    },
    {
     "data": {
      "image/png": "[encoded data removed]",
      "text/plain": [
       "<Figure size 432x288 with 2 Axes>"
      ]
     },
     "metadata": {
      "needs_background": "light"
     },
     "output_type": "display_data"
    }
   ],
   "source": [
    "class_names=['societe','politique'] # name  of classes\n",
    "fig, ax = plt.subplots()\n",
    "tick_marks = np.arange(len(class_names))\n",
    "plt.xticks(tick_marks, class_names)\n",
    "plt.yticks(tick_marks, class_names)\n",
    "# create heatmap\n",
    "sns.heatmap(pd.DataFrame(cnf_matrix), annot=True, cmap=\"YlGnBu\" ,fmt='g')\n",
    "ax.xaxis.set_label_position(\"top\")\n",
    "plt.tight_layout()\n",
    "plt.title('Confusion matrix', y=1.1)\n",
    "plt.ylabel('Actual label')\n",
    "plt.xlabel('Predicted label')"
   ]
  },
  {
   "cell_type": "code",
   "execution_count": 28,
   "metadata": {},
   "outputs": [
    {
     "name": "stdout",
     "output_type": "stream",
     "text": [
      "Class société----\n",
      "Precision: 0.6360544217687075\n",
      "Recall: 0.6296296296296297\n",
      "F-measure 0.6328257191201354\n",
      "Class politique----\n",
      "Precision: 0.6405228758169934\n",
      "Recall: 0.6468646864686468\n",
      "F-measure 0.6436781609195402\n"
     ]
    }
   ],
   "source": [
    "print('Class société----')\n",
    "print(\"Precision:\",metrics.precision_score(y_test, y_pred, pos_label=\"societe\"))\n",
    "print(\"Recall:\",metrics.recall_score(y_test, y_pred, pos_label=\"societe\"))\n",
    "print(\"F-measure\",metrics.f1_score(y_test, y_pred, pos_label=\"societe\"))\n",
    "print('Class politique----')\n",
    "print(\"Precision:\",metrics.precision_score(y_test, y_pred, pos_label=\"politique\"))\n",
    "print(\"Recall:\",metrics.recall_score(y_test, y_pred, pos_label=\"politique\"))\n",
    "print(\"F-measure\",metrics.f1_score(y_test, y_pred, pos_label=\"politique\"))"
   ]
  },
  {
   "cell_type": "markdown",
   "metadata": {},
   "source": [
    "### MLPClassifier"
   ]
  },
  {
   "cell_type": "code",
   "execution_count": 31,
   "metadata": {},
   "outputs": [
    {
     "data": {
      "text/plain": [
       "array([[194, 109],\n",
       "       [105, 192]], dtype=int64)"
      ]
     },
     "execution_count": 31,
     "metadata": {},
     "output_type": "execute_result"
    }
   ],
   "source": [
    "clf = MLPClassifier(random_state=1)\n",
    "clf=RandomForestClassifier(n_estimators=100)\n",
    "clf.fit(X_train, y_train)\n",
    "y_pred=clf.predict(X_test)\n",
    "cnf_matrix = metrics.confusion_matrix(y_test, y_pred)\n",
    "cnf_matrix"
   ]
  },
  {
   "cell_type": "code",
   "execution_count": 32,
   "metadata": {},
   "outputs": [
    {
     "name": "stdout",
     "output_type": "stream",
     "text": [
      "Precision: [0.64882943 0.63787375]\n",
      "Recall: [0.64026403 0.64646465]\n",
      "F-measure [0.64451827 0.64214047]\n"
     ]
    }
   ],
   "source": [
    "print(\"Precision:\",metrics.precision_score(y_test, y_pred, average=None))\n",
    "print(\"Recall:\",metrics.recall_score(y_test, y_pred, average=None))\n",
    "print(\"F-measure\",metrics.f1_score(y_test, y_pred, average=None))"
   ]
  },
  {
   "cell_type": "code",
   "execution_count": 33,
   "metadata": {},
   "outputs": [
    {
     "data": {
      "text/plain": [
       "Text(0.5, 257.44, 'Predicted label')"
      ]
     },
     "execution_count": 33,
     "metadata": {},
     "output_type": "execute_result"
    },
    {
     "data": {
      "image/png": "[encoded data removed]",
      "text/plain": [
       "<Figure size 432x288 with 2 Axes>"
      ]
     },
     "metadata": {
      "needs_background": "light"
     },
     "output_type": "display_data"
    }
   ],
   "source": [
    "class_names=['societe','politique'] # name  of classes\n",
    "fig, ax = plt.subplots()\n",
    "tick_marks = np.arange(len(class_names))\n",
    "plt.xticks(tick_marks, class_names)\n",
    "plt.yticks(tick_marks, class_names)\n",
    "# create heatmap\n",
    "sns.heatmap(pd.DataFrame(cnf_matrix), annot=True, cmap=\"YlGnBu\" ,fmt='g')\n",
    "ax.xaxis.set_label_position(\"top\")\n",
    "plt.tight_layout()\n",
    "plt.title('Confusion matrix', y=1.1)\n",
    "plt.ylabel('Actual label')\n",
    "plt.xlabel('Predicted label')"
   ]
  },
  {
   "cell_type": "code",
   "execution_count": null,
   "metadata": {},
   "outputs": [],
   "source": []
  }
 ],
 "metadata": {
  "kernelspec": {
   "display_name": "Python 3",
   "language": "python",
   "name": "python3"
  },
  "language_info": {
   "codemirror_mode": {
    "name": "ipython",
    "version": 3
   },
   "file_extension": ".py",
   "mimetype": "text/x-python",
   "name": "python",
   "nbconvert_exporter": "python",
   "pygments_lexer": "ipython3",
   "version": "3.7.3"
  }
 },
 "nbformat": 4,
 "nbformat_minor": 4
}
